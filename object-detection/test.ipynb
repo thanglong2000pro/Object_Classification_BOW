{
 "cells": [
  {
   "cell_type": "code",
   "execution_count": 14,
   "metadata": {},
   "outputs": [],
   "source": [
    "import cv2\n",
    "import numpy as np\n",
    "import os\n",
    "from sklearn.metrics import accuracy_score, f1_score, precision_score, recall_score, classification_report, confusion_matrix\n",
    "from sklearn.svm import SVC\n",
    "from scipy.cluster.vq import vq\n",
    "import joblib\n",
    "# from skimage import io\n",
    "# from PIL import Image \n",
    "import matplotlib.pyplot as plt\n"
   ]
  },
  {
   "cell_type": "code",
   "execution_count": 4,
   "metadata": {},
   "outputs": [],
   "source": [
    "clf, classes_names, stdSlr, k, voc = joblib.load(\n",
    "    \"/home/darkknight/computer-vision/sift500_coil100_svm.pkl\")"
   ]
  },
  {
   "cell_type": "code",
   "execution_count": 5,
   "metadata": {},
   "outputs": [],
   "source": [
    "test_path = '/home/darkknight/computer-vision/object-detection/data_process/coil-100-BOW/test'\n",
    "\n",
    "image_paths = []\n",
    "image_classes = []\n",
    "class_id = 0"
   ]
  },
  {
   "cell_type": "code",
   "execution_count": 6,
   "metadata": {},
   "outputs": [],
   "source": [
    "def imglist(path):\n",
    "    return [os.path.join(path, f) for f in os.listdir(path)]\n",
    "\n",
    "\n",
    "for class_name in classes_names:\n",
    "    dir = os.path.join(test_path, class_name)\n",
    "    class_path = imglist(dir)\n",
    "    image_paths += class_path\n",
    "    image_classes += [class_id] * len(class_path)\n",
    "    class_id += 1\n",
    "des_list = []"
   ]
  },
  {
   "cell_type": "code",
   "execution_count": 7,
   "metadata": {},
   "outputs": [],
   "source": [
    "sift = cv2.SIFT_create(128)"
   ]
  },
  {
   "cell_type": "code",
   "execution_count": 8,
   "metadata": {},
   "outputs": [],
   "source": [
    "for image_path in image_paths:\n",
    "    im = cv2.imread(image_path)\n",
    "    # im = cv2.resize(im, (150,150))\n",
    "    kpts, des = sift.detectAndCompute(im, None)\n",
    "    des_list.append((image_path, des))"
   ]
  },
  {
   "cell_type": "code",
   "execution_count": 30,
   "metadata": {},
   "outputs": [
    {
     "data": {
      "text/plain": [
       "('/home/darkknight/computer-vision/object-detection/data_process/coil-100-BOW/test/obj67/obj67__0.png',\n",
       " array([[16.,  0.,  0., ...,  0.,  0.,  0.],\n",
       "        [66., 17.,  0., ...,  0.,  4.,  3.],\n",
       "        [ 1.,  0.,  0., ..., 15.,  0.,  1.],\n",
       "        ...,\n",
       "        [ 0.,  0.,  0., ...,  1.,  1.,  5.],\n",
       "        [ 0.,  0.,  0., ...,  0.,  0.,  0.],\n",
       "        [30., 88.,  1., ..., 32.,  1.,  0.]], dtype=float32))"
      ]
     },
     "execution_count": 30,
     "metadata": {},
     "output_type": "execute_result"
    }
   ],
   "source": [
    "des_list[0]"
   ]
  },
  {
   "cell_type": "code",
   "execution_count": 10,
   "metadata": {},
   "outputs": [],
   "source": [
    "test_features = np.zeros((len(image_paths), k), \"float32\")\n",
    "for i in range(len(image_paths)):\n",
    "    if des_list[i][1] is not None:\n",
    "        words, distance = vq(des_list[i][1], voc)\n",
    "        for w in words:\n",
    "            test_features[i][w] += 1\n",
    "test_features = stdSlr.transform(test_features)"
   ]
  },
  {
   "cell_type": "code",
   "execution_count": 11,
   "metadata": {},
   "outputs": [
    {
     "name": "stdout",
     "output_type": "stream",
     "text": [
      "0.9721428571428572\n"
     ]
    }
   ],
   "source": [
    "pred = clf.predict(test_features)\n",
    "accuracy = accuracy_score(image_classes, pred)\n",
    "report = classification_report(image_classes, pred)\n",
    "print(accuracy)"
   ]
  },
  {
   "cell_type": "code",
   "execution_count": 12,
   "metadata": {},
   "outputs": [
    {
     "data": {
      "text/plain": [
       "'/home/darkknight/computer-vision/object-detection/data_process/coil-100-BOW/test/obj67/obj67__0.png'"
      ]
     },
     "execution_count": 12,
     "metadata": {},
     "output_type": "execute_result"
    }
   ],
   "source": [
    "image_paths[0]"
   ]
  },
  {
   "cell_type": "code",
   "execution_count": 15,
   "metadata": {},
   "outputs": [
    {
     "data": {
      "text/plain": [
       "<matplotlib.image.AxesImage at 0x7f277ff2d460>"
      ]
     },
     "execution_count": 15,
     "metadata": {},
     "output_type": "execute_result"
    },
    {
     "data": {
      "image/png": "[encoded data removed]",
      "text/plain": [
       "<Figure size 432x288 with 1 Axes>"
      ]
     },
     "metadata": {
      "needs_background": "light"
     },
     "output_type": "display_data"
    }
   ],
   "source": [
    "img = cv2.imread(image_paths[0], cv2.IMREAD_COLOR)\n",
    "# cv2.imshow(\"image\", img)\n",
    "# cv2.waitKey(0)\n",
    "# cv2.destroyAllWindows()\n",
    "plt.imshow(img)"
   ]
  },
  {
   "cell_type": "code",
   "execution_count": 29,
   "metadata": {},
   "outputs": [
    {
     "data": {
      "text/plain": [
       "'obj67'"
      ]
     },
     "execution_count": 29,
     "metadata": {},
     "output_type": "execute_result"
    }
   ],
   "source": [
    "classes_names[0]"
   ]
  },
  {
   "cell_type": "code",
   "execution_count": 31,
   "metadata": {},
   "outputs": [
    {
     "data": {
      "text/plain": [
       "0"
      ]
     },
     "execution_count": 31,
     "metadata": {},
     "output_type": "execute_result"
    }
   ],
   "source": [
    "image_classes[0]"
   ]
  },
  {
   "cell_type": "code",
   "execution_count": 32,
   "metadata": {},
   "outputs": [
    {
     "data": {
      "text/plain": [
       "0"
      ]
     },
     "execution_count": 32,
     "metadata": {},
     "output_type": "execute_result"
    }
   ],
   "source": [
    "pred[0]"
   ]
  },
  {
   "cell_type": "code",
   "execution_count": 24,
   "metadata": {},
   "outputs": [
    {
     "data": {
      "text/plain": [
       "0.9721428571428572"
      ]
     },
     "execution_count": 24,
     "metadata": {},
     "output_type": "execute_result"
    }
   ],
   "source": [
    "accuracy = accuracy_score(image_classes, pred)\n",
    "accuracy"
   ]
  },
  {
   "cell_type": "code",
   "execution_count": null,
   "metadata": {},
   "outputs": [],
   "source": []
  }
 ],
 "metadata": {
  "kernelspec": {
   "display_name": "Python 3.8.13 ('KALAPA')",
   "language": "python",
   "name": "python3"
  },
  "language_info": {
   "codemirror_mode": {
    "name": "ipython",
    "version": 3
   },
   "file_extension": ".py",
   "mimetype": "text/x-python",
   "name": "python",
   "nbconvert_exporter": "python",
   "pygments_lexer": "ipython3",
   "version": "3.8.13"
  },
  "orig_nbformat": 4,
  "vscode": {
   "interpreter": {
    "hash": "4b349e7213a6a487364354a0444d0f2b43e830ca3029dc341bb50f6e4aeb5ba1"
   }
  }
 },
 "nbformat": 4,
 "nbformat_minor": 2
}
